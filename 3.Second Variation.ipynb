{
 "cells": [
  {
   "cell_type": "code",
   "execution_count": 1,
   "metadata": {},
   "outputs": [],
   "source": [
    "import os\n",
    "\n",
    "import numpy as np\n",
    "\n",
    "import cv2 as cv\n",
    "\n",
    "import matplotlib.pyplot as plt\n",
    "import matplotlib.image as mpimg\n",
    "%matplotlib inline\n",
    "\n",
    "from PIL import Image\n",
    "\n",
    "from IPython.display import display\n",
    "\n",
    "import torch\n",
    "import torch.nn as nn\n",
    "import torch.nn.functional as F\n",
    "from torch.utils.data import DataLoader\n",
    "from torchvision import datasets, transforms, models\n",
    "from torch.optim.lr_scheduler import StepLR\n",
    "\n",
    "from torchinfo import summary\n",
    "from tqdm import tqdm"
   ]
  },
  {
   "cell_type": "markdown",
   "metadata": {},
   "source": [
    "### Second Variation"
   ]
  },
  {
   "cell_type": "markdown",
   "metadata": {},
   "source": [
    "This time we will augment the data and see if there are changes in the accuracies.\n",
    "Let's experiment with a few basic augmentation methods, such as the following:\n",
    "- Use [color jitter](https://pytorch.org/vision/main/generated/torchvision.transforms.ColorJitter.html) to augment the train data.\n",
    "- Randomly flip the train data.\n",
    "- Randomly flip the train samples."
   ]
  },
  {
   "cell_type": "markdown",
   "metadata": {},
   "source": [
    "The new workflow :\n",
    "\n",
    "\n",
    "<img src=\"img/augmentation.JPG\" style=\"display:block; margin:auto\">\n",
    "\n",
    "The green block have already been implemented. In this variation, the focus is on the blue block (Think Augmentation). This will help us gauge the impact of the augmentation technique.  \n",
    "In this variation we will skip Data ingestion and Data Check since it has already been done and start from the Data Loader."
   ]
  },
  {
   "cell_type": "code",
   "execution_count": 2,
   "metadata": {},
   "outputs": [],
   "source": [
    "data_path = 'img\\chest_xray'"
   ]
  },
  {
   "cell_type": "code",
   "execution_count": 3,
   "metadata": {},
   "outputs": [],
   "source": [
    "train_transform = transforms.Compose([\n",
    "    transforms.Resize(224),\n",
    "    transforms.CenterCrop(224),\n",
    "    transforms.ColorJitter(brightness=0.10, contrast=0.1, saturation=0.10, hue=0.1),\n",
    "    transforms.RandomHorizontalFlip(),\n",
    "    transforms.RandomRotation(10),\n",
    "    transforms.ToTensor(),\n",
    "    transforms.Normalize([0.485, 0.456, 0.406],\n",
    "                         [0.229, 0.224, 0.225])])\n",
    "test_transform = transforms.Compose([\n",
    "    transforms.Resize(224),\n",
    "    transforms.CenterCrop(224),\n",
    "    transforms.ToTensor(),\n",
    "    transforms.Normalize([0.485, 0.456, 0.406],\n",
    "                         [0.229, 0.224, 0.225])])"
   ]
  },
  {
   "cell_type": "markdown",
   "metadata": {},
   "source": [
    "The augmentation processes are incorporated in the compose functions themselves and thus we don’t need to change the data loader portion of the code. We will reuse the exact code proccess from the compose functions and run it on the iterations."
   ]
  },
  {
   "cell_type": "code",
   "execution_count": 5,
   "metadata": {},
   "outputs": [],
   "source": [
    "train_data = datasets.ImageFolder(\n",
    "    os.path.join(data_path, 'train'), transform=train_transform\n",
    "    )\n",
    "test_data = datasets.ImageFolder(\n",
    "    os.path.join(data_path, 'test'), transform=test_transform\n",
    "    )"
   ]
  },
  {
   "cell_type": "code",
   "execution_count": 6,
   "metadata": {},
   "outputs": [
    {
     "name": "stdout",
     "output_type": "stream",
     "text": [
      "['NORMAL', 'PNEUMONIA']\n",
      "Number of train images: 5232\n",
      "Number of test images: 624\n"
     ]
    }
   ],
   "source": [
    "train_loader = DataLoader(train_data, batch_size=16, shuffle=True, pin_memory=True)\n",
    "test_loader = DataLoader(test_data, batch_size=1, shuffle=False, pin_memory=True)\n",
    "class_names =  train_data.classes\n",
    "print(class_names)\n",
    "print(f'Number of train images: {len(train_data)}')\n",
    "print(f'Number of test images: {len(test_data)}')"
   ]
  },
  {
   "cell_type": "code",
   "execution_count": 7,
   "metadata": {},
   "outputs": [],
   "source": [
    "class Net(nn.Module):\n",
    "    \n",
    "    def __init__(self):\n",
    "        super(Net, self).__init__()\n",
    "\n",
    "        #INPUT BLOCK\n",
    "        self.convblock1 = nn.Sequential(\n",
    "            nn.Conv2d(\n",
    "            in_channels=3, out_channels=8, kernel_size=(3,3),padding=0, bias=False),\n",
    "            nn.ReLU(),\n",
    "            #nn.BatchNorm2d(4)\n",
    "        )\n",
    "        self.pool11 = nn.MaxPool2d(2,2)\n",
    "\n",
    "        # CONVOLUTION BLOCK\n",
    "        self.convblock2 = nn.Sequential(\n",
    "            nn.Conv2d(\n",
    "            in_channels=8, out_channels=16, kernel_size=(3,3),padding=0, bias=False),\n",
    "            nn.ReLU(),\n",
    "            #nn.BatchNorm2d(16)\n",
    "        )\n",
    "        self.pool22 = nn.MaxPool2d(2,2)\n",
    "\n",
    "        # TRANSITION BLOCK\n",
    "        self.convblock3 = nn.Sequential(\n",
    "            nn.Conv2d(\n",
    "            in_channels=16, out_channels=10, kernel_size=(1,1), padding=0, bias=False),\n",
    "            nn.ReLU()\n",
    "            #nn.BatchNorm2d(10),\n",
    "        )\n",
    "        self.pool33 = nn.MaxPool2d(2,2)\n",
    "\n",
    "        # CONVOLUTION BLOCK\n",
    "        self.convblock4 = nn.Sequential(\n",
    "            nn.Conv2d(\n",
    "            in_channels=10, out_channels=10, kernel_size=(3,3), padding=0, bias=False),\n",
    "            nn.ReLU(),\n",
    "            #nn.BatchNorm2d(10)\n",
    "        )\n",
    "        self.convblock5 = nn.Sequential(\n",
    "            nn.Conv2d(\n",
    "            in_channels=10, out_channels=32, kernel_size=(1,1), padding=0, bias=False),\n",
    "            nn.ReLU(),\n",
    "            #nn.BatchNorm2d(32),\n",
    "        )\n",
    "        self.convblock6 = nn.Sequential(\n",
    "            nn.Conv2d(\n",
    "            in_channels=32, out_channels=10, kernel_size=(1,1), padding=0, bias=False),\n",
    "            nn.ReLU(),\n",
    "            #nn.BatchNorm2d(10),\n",
    "        )\n",
    "        self.convblock7 = nn.Sequential(\n",
    "            nn.Conv2d(\n",
    "            in_channels=10, out_channels=10, kernel_size=(3,3), padding=0, bias=False),\n",
    "            nn.ReLU(),\n",
    "            #nn.BatchNorm2d(10),\n",
    "        )\n",
    "        self.convblock8 = nn.Sequential(\n",
    "            nn.Conv2d(\n",
    "            in_channels=10, out_channels=32, kernel_size=(1,1), padding=0, bias=False),\n",
    "            nn.ReLU(),\n",
    "            #nn.BatchNorm2d(32),\n",
    "        )\n",
    "        self.convblock9 = nn.Sequential(\n",
    "            nn.Conv2d(\n",
    "            in_channels=32, out_channels=10, kernel_size=(1,1), padding=0, bias=False),\n",
    "            nn.ReLU(),\n",
    "            #nn.BatchNorm2d(10),\n",
    "        )\n",
    "        self.convblock10 = nn.Sequential(\n",
    "            nn.Conv2d(\n",
    "            in_channels=10, out_channels=14, kernel_size=(3,3), padding=0, bias=False),\n",
    "            nn.ReLU(),\n",
    "            #nn.BatchNorm2d(14),\n",
    "        )\n",
    "        self.convblock11 = nn.Sequential(\n",
    "            nn.Conv2d(\n",
    "            in_channels=14, out_channels=16, kernel_size=(3,3), padding=0, bias=False),\n",
    "            nn.ReLU(),\n",
    "            #nn.BatchNorm2d(16),\n",
    "        )\n",
    "\n",
    "        # OUTPUT BLOCK\n",
    "        self.gap = nn.Sequential(\n",
    "            nn.AvgPool2d(kernel_size=4)\n",
    "        )\n",
    "        self.convblockout = nn.Sequential(\n",
    "            nn.Conv2d(\n",
    "            in_channels=16, out_channels=2, kernel_size=(4,4), padding=0, bias=False),\n",
    "        )\n",
    "\n",
    "    def forward(self,x):\n",
    "        x = self.convblock1(x)\n",
    "        x = self.pool11(x)\n",
    "        x = self.convblock2(x)\n",
    "        x = self.pool22(x)\n",
    "        x = self.convblock3(x)\n",
    "        x = self.pool33(x)\n",
    "        x = self.convblock4(x)\n",
    "        x = self.convblock5(x)\n",
    "        x = self.convblock6(x)\n",
    "        x = self.convblock7(x)\n",
    "        x = self.convblock8(x)\n",
    "        x = self.convblock9(x)\n",
    "        x = self.convblock10(x)\n",
    "        x = self.convblock11(x)\n",
    "        x = self.gap(x)\n",
    "        x = self.convblockout(x)\n",
    "\n",
    "        x = x.view(-1,2)\n",
    "        return F.log_softmax(x, dim=-1)"
   ]
  },
  {
   "cell_type": "code",
   "execution_count": 9,
   "metadata": {},
   "outputs": [
    {
     "name": "stdout",
     "output_type": "stream",
     "text": [
      "Avaliable processor: cuda\n"
     ]
    },
    {
     "data": {
      "text/plain": [
       "==========================================================================================\n",
       "Layer (type:depth-idx)                   Output Shape              Param #\n",
       "==========================================================================================\n",
       "Net                                      [1, 2]                    --\n",
       "├─Sequential: 1-1                        [8, 222, 222]             --\n",
       "│    └─Conv2d: 2-1                       [8, 222, 222]             216\n",
       "│    └─ReLU: 2-2                         [8, 222, 222]             --\n",
       "├─MaxPool2d: 1-2                         [8, 111, 111]             --\n",
       "├─Sequential: 1-3                        [16, 109, 109]            --\n",
       "│    └─Conv2d: 2-3                       [16, 109, 109]            1,152\n",
       "│    └─ReLU: 2-4                         [16, 109, 109]            --\n",
       "├─MaxPool2d: 1-4                         [16, 54, 54]              --\n",
       "├─Sequential: 1-5                        [10, 54, 54]              --\n",
       "│    └─Conv2d: 2-5                       [10, 54, 54]              160\n",
       "│    └─ReLU: 2-6                         [10, 54, 54]              --\n",
       "├─MaxPool2d: 1-6                         [10, 27, 27]              --\n",
       "├─Sequential: 1-7                        [10, 25, 25]              --\n",
       "│    └─Conv2d: 2-7                       [10, 25, 25]              900\n",
       "│    └─ReLU: 2-8                         [10, 25, 25]              --\n",
       "├─Sequential: 1-8                        [32, 25, 25]              --\n",
       "│    └─Conv2d: 2-9                       [32, 25, 25]              320\n",
       "│    └─ReLU: 2-10                        [32, 25, 25]              --\n",
       "├─Sequential: 1-9                        [10, 25, 25]              --\n",
       "│    └─Conv2d: 2-11                      [10, 25, 25]              320\n",
       "│    └─ReLU: 2-12                        [10, 25, 25]              --\n",
       "├─Sequential: 1-10                       [10, 23, 23]              --\n",
       "│    └─Conv2d: 2-13                      [10, 23, 23]              900\n",
       "│    └─ReLU: 2-14                        [10, 23, 23]              --\n",
       "├─Sequential: 1-11                       [32, 23, 23]              --\n",
       "│    └─Conv2d: 2-15                      [32, 23, 23]              320\n",
       "│    └─ReLU: 2-16                        [32, 23, 23]              --\n",
       "├─Sequential: 1-12                       [10, 23, 23]              --\n",
       "│    └─Conv2d: 2-17                      [10, 23, 23]              320\n",
       "│    └─ReLU: 2-18                        [10, 23, 23]              --\n",
       "├─Sequential: 1-13                       [14, 21, 21]              --\n",
       "│    └─Conv2d: 2-19                      [14, 21, 21]              1,260\n",
       "│    └─ReLU: 2-20                        [14, 21, 21]              --\n",
       "├─Sequential: 1-14                       [16, 19, 19]              --\n",
       "│    └─Conv2d: 2-21                      [16, 19, 19]              2,016\n",
       "│    └─ReLU: 2-22                        [16, 19, 19]              --\n",
       "├─Sequential: 1-15                       [16, 4, 4]                --\n",
       "│    └─AvgPool2d: 2-23                   [16, 4, 4]                --\n",
       "├─Sequential: 1-16                       [2, 1, 1]                 --\n",
       "│    └─Conv2d: 2-24                      [2, 1, 1]                 512\n",
       "==========================================================================================\n",
       "Total params: 8,396\n",
       "Trainable params: 8,396\n",
       "Non-trainable params: 0\n",
       "Total mult-adds (M): 4.54\n",
       "==========================================================================================\n",
       "Input size (MB): 0.60\n",
       "Forward/backward pass size (MB): 5.48\n",
       "Params size (MB): 0.03\n",
       "Estimated Total Size (MB): 6.12\n",
       "=========================================================================================="
      ]
     },
     "execution_count": 9,
     "metadata": {},
     "output_type": "execute_result"
    }
   ],
   "source": [
    "use_cuda = torch.cuda.is_available()\n",
    "device = torch.device('cuda' if use_cuda else 'cpu')\n",
    "print(f'Avaliable processor: {device}')\n",
    "model = Net().to(device)\n",
    "summary(model, input_size=(3,224,224), col_names=('output_size', 'num_params'))"
   ]
  },
  {
   "cell_type": "code",
   "execution_count": 10,
   "metadata": {},
   "outputs": [],
   "source": [
    "train_losses = []\n",
    "test_losses = []\n",
    "train_acc = []\n",
    "test_acc = []\n",
    "\n",
    "def train(model, device, train_loader, optimizer, epoch):\n",
    "    model.train()\n",
    "    pbar = tqdm(train_loader)\n",
    "\n",
    "    correct = 0\n",
    "    proccessed = 0\n",
    "\n",
    "    for batch_idx, (data, target) in enumerate(pbar):\n",
    "        # Get data.\n",
    "        data, target = data.to(device), target.to(device)\n",
    "\n",
    "        # Initialization of gradient.\n",
    "        optimizer.zero_grad()\n",
    "\n",
    "        # Prediction on data.\n",
    "        y_pred = model(data)\n",
    "\n",
    "        # Calculate the loss, given the prediction. (Cost function).\n",
    "        loss = F.nll_loss(y_pred, target)\n",
    "        train_losses.append(loss)\n",
    "\n",
    "        # Backpropagation.\n",
    "        loss.backward()\n",
    "        optimizer.step()\n",
    "\n",
    "        # Track the training loss and accuracy.\n",
    "        pred = y_pred.argmax(dim=1, keepdim=True)\n",
    "        correct += pred.eq(target.view_as(pred)).sum().item()\n",
    "        proccessed += len(data)\n",
    "\n",
    "        pbar.set_description(\n",
    "            desc=f'Loss={loss.item()} '\n",
    "                 f'Batch_id={batch_idx} '\n",
    "                 f'Accuracy={100*correct/proccessed:.2f}'\n",
    "    )\n",
    "\n",
    "        train_acc.append(100*correct/proccessed)\n",
    "\n",
    "def test(model, device, test_loader):\n",
    "    model.eval()\n",
    "    test_loss = 0\n",
    "    correct = 0\n",
    "    with torch.no_grad():\n",
    "        for data, target in test_loader:\n",
    "            data, target = data.to(device), target.to(device)\n",
    "            output = model(data)\n",
    "            test_loss += F.nll_loss(output, target, reduction='sum').item()\n",
    "            pred = output.argmax(dim=1, keepdim=True)\n",
    "            correct += pred.eq(target.view_as(pred)).sum().item()\n",
    "    \n",
    "    test_loss /= len(test_loader.dataset)\n",
    "    test_losses.append(test_loss)\n",
    "\n",
    "    print(\n",
    "    f'\\nTest set: '\n",
    "    f'Average loss: {test_loss:.4f}, '\n",
    "    f'Accuracy: {correct}/{len(test_loader.dataset)} '\n",
    "    f'({100. * correct / len(test_loader.dataset):.2f}%)\\n'\n",
    ")\n",
    "    test_acc.append(100.*correct/len(test_loader.dataset))"
   ]
  },
  {
   "cell_type": "code",
   "execution_count": 11,
   "metadata": {},
   "outputs": [
    {
     "name": "stdout",
     "output_type": "stream",
     "text": [
      "EPOCH: 0\n"
     ]
    },
    {
     "name": "stderr",
     "output_type": "stream",
     "text": [
      "  0%|          | 0/327 [00:00<?, ?it/s]"
     ]
    },
    {
     "name": "stderr",
     "output_type": "stream",
     "text": [
      "Loss=0.693146288394928 Batch_id=326 Accuracy=74.22: 100%|██████████| 327/327 [02:42<00:00,  2.01it/s] \n"
     ]
    },
    {
     "name": "stdout",
     "output_type": "stream",
     "text": [
      "current Learning Rate:  0.01\n",
      "\n",
      "Test set: Average loss: 0.6931, Accuracy: 390/624 (62.50%)\n",
      "\n",
      "EPOCH: 1\n"
     ]
    },
    {
     "name": "stderr",
     "output_type": "stream",
     "text": [
      "Loss=0.6931418776512146 Batch_id=326 Accuracy=74.22: 100%|██████████| 327/327 [02:37<00:00,  2.08it/s]\n"
     ]
    },
    {
     "name": "stdout",
     "output_type": "stream",
     "text": [
      "current Learning Rate:  0.01\n",
      "\n",
      "Test set: Average loss: 0.6931, Accuracy: 390/624 (62.50%)\n",
      "\n",
      "EPOCH: 2\n"
     ]
    },
    {
     "name": "stderr",
     "output_type": "stream",
     "text": [
      "Loss=0.6931425929069519 Batch_id=326 Accuracy=74.22: 100%|██████████| 327/327 [02:36<00:00,  2.09it/s]\n"
     ]
    },
    {
     "name": "stdout",
     "output_type": "stream",
     "text": [
      "current Learning Rate:  0.01\n",
      "\n",
      "Test set: Average loss: 0.6931, Accuracy: 390/624 (62.50%)\n",
      "\n",
      "EPOCH: 3\n"
     ]
    },
    {
     "name": "stderr",
     "output_type": "stream",
     "text": [
      "Loss=0.6931462287902832 Batch_id=326 Accuracy=74.22: 100%|██████████| 327/327 [02:38<00:00,  2.07it/s]\n"
     ]
    },
    {
     "name": "stdout",
     "output_type": "stream",
     "text": [
      "current Learning Rate:  0.01\n",
      "\n",
      "Test set: Average loss: 0.6931, Accuracy: 390/624 (62.50%)\n",
      "\n",
      "EPOCH: 4\n"
     ]
    },
    {
     "name": "stderr",
     "output_type": "stream",
     "text": [
      "Loss=0.6931478977203369 Batch_id=326 Accuracy=74.22: 100%|██████████| 327/327 [02:38<00:00,  2.06it/s]\n"
     ]
    },
    {
     "name": "stdout",
     "output_type": "stream",
     "text": [
      "current Learning Rate:  0.01\n",
      "\n",
      "Test set: Average loss: 0.6931, Accuracy: 390/624 (62.50%)\n",
      "\n",
      "EPOCH: 5\n"
     ]
    },
    {
     "name": "stderr",
     "output_type": "stream",
     "text": [
      "Loss=0.6931465268135071 Batch_id=326 Accuracy=74.22: 100%|██████████| 327/327 [02:38<00:00,  2.07it/s]\n"
     ]
    },
    {
     "name": "stdout",
     "output_type": "stream",
     "text": [
      "current Learning Rate:  0.005\n",
      "\n",
      "Test set: Average loss: 0.6931, Accuracy: 390/624 (62.50%)\n",
      "\n",
      "EPOCH: 6\n"
     ]
    },
    {
     "name": "stderr",
     "output_type": "stream",
     "text": [
      "Loss=0.693132758140564 Batch_id=326 Accuracy=74.22: 100%|██████████| 327/327 [02:40<00:00,  2.04it/s] \n"
     ]
    },
    {
     "name": "stdout",
     "output_type": "stream",
     "text": [
      "current Learning Rate:  0.005\n",
      "\n",
      "Test set: Average loss: 0.6931, Accuracy: 390/624 (62.50%)\n",
      "\n",
      "EPOCH: 7\n"
     ]
    },
    {
     "name": "stderr",
     "output_type": "stream",
     "text": [
      "Loss=0.6931353807449341 Batch_id=326 Accuracy=74.22: 100%|██████████| 327/327 [02:41<00:00,  2.03it/s]\n"
     ]
    },
    {
     "name": "stdout",
     "output_type": "stream",
     "text": [
      "current Learning Rate:  0.005\n",
      "\n",
      "Test set: Average loss: 0.6931, Accuracy: 390/624 (62.50%)\n",
      "\n",
      "EPOCH: 8\n"
     ]
    },
    {
     "name": "stderr",
     "output_type": "stream",
     "text": [
      "Loss=0.6931309103965759 Batch_id=326 Accuracy=74.22: 100%|██████████| 327/327 [02:38<00:00,  2.06it/s]\n"
     ]
    },
    {
     "name": "stdout",
     "output_type": "stream",
     "text": [
      "current Learning Rate:  0.005\n",
      "\n",
      "Test set: Average loss: 0.6931, Accuracy: 390/624 (62.50%)\n",
      "\n",
      "EPOCH: 9\n"
     ]
    },
    {
     "name": "stderr",
     "output_type": "stream",
     "text": [
      "Loss=0.6931465864181519 Batch_id=326 Accuracy=74.22: 100%|██████████| 327/327 [02:40<00:00,  2.03it/s]\n"
     ]
    },
    {
     "name": "stdout",
     "output_type": "stream",
     "text": [
      "current Learning Rate:  0.005\n",
      "\n",
      "Test set: Average loss: 0.6931, Accuracy: 390/624 (62.50%)\n",
      "\n",
      "EPOCH: 10\n"
     ]
    },
    {
     "name": "stderr",
     "output_type": "stream",
     "text": [
      "Loss=0.6931267976760864 Batch_id=326 Accuracy=74.22: 100%|██████████| 327/327 [02:41<00:00,  2.03it/s]\n"
     ]
    },
    {
     "name": "stdout",
     "output_type": "stream",
     "text": [
      "current Learning Rate:  0.005\n",
      "\n",
      "Test set: Average loss: 0.6931, Accuracy: 390/624 (62.50%)\n",
      "\n",
      "EPOCH: 11\n"
     ]
    },
    {
     "name": "stderr",
     "output_type": "stream",
     "text": [
      "Loss=0.6931241750717163 Batch_id=326 Accuracy=74.22: 100%|██████████| 327/327 [02:39<00:00,  2.05it/s]\n"
     ]
    },
    {
     "name": "stdout",
     "output_type": "stream",
     "text": [
      "current Learning Rate:  0.0025\n",
      "\n",
      "Test set: Average loss: 0.6931, Accuracy: 390/624 (62.50%)\n",
      "\n",
      "EPOCH: 12\n"
     ]
    },
    {
     "name": "stderr",
     "output_type": "stream",
     "text": [
      "Loss=0.6931231617927551 Batch_id=326 Accuracy=74.22: 100%|██████████| 327/327 [03:02<00:00,  1.79it/s]\n"
     ]
    },
    {
     "name": "stdout",
     "output_type": "stream",
     "text": [
      "current Learning Rate:  0.0025\n",
      "\n",
      "Test set: Average loss: 0.6931, Accuracy: 390/624 (62.50%)\n",
      "\n",
      "EPOCH: 13\n"
     ]
    },
    {
     "name": "stderr",
     "output_type": "stream",
     "text": [
      "Loss=0.6931052803993225 Batch_id=326 Accuracy=74.22: 100%|██████████| 327/327 [02:51<00:00,  1.91it/s]\n"
     ]
    },
    {
     "name": "stdout",
     "output_type": "stream",
     "text": [
      "current Learning Rate:  0.0025\n",
      "\n",
      "Test set: Average loss: 0.6931, Accuracy: 390/624 (62.50%)\n",
      "\n",
      "EPOCH: 14\n"
     ]
    },
    {
     "name": "stderr",
     "output_type": "stream",
     "text": [
      "Loss=0.6930964589118958 Batch_id=326 Accuracy=74.22: 100%|██████████| 327/327 [02:40<00:00,  2.04it/s]\n"
     ]
    },
    {
     "name": "stdout",
     "output_type": "stream",
     "text": [
      "current Learning Rate:  0.0025\n",
      "\n",
      "Test set: Average loss: 0.6931, Accuracy: 390/624 (62.50%)\n",
      "\n"
     ]
    }
   ],
   "source": [
    "model = Net().to(device)\n",
    "optimizer = torch.optim.SGD(model.parameters(), lr=0.01, momentum=0.9)\n",
    "scheduler = StepLR(optimizer, step_size=6, gamma=0.5)\n",
    "\n",
    "EPOCHS = 15\n",
    "for epoch in range(EPOCHS):\n",
    "    print(\"EPOCH:\", epoch)\n",
    "    train(model, device, train_loader, optimizer, epoch)\n",
    "    scheduler.step()\n",
    "    print('current Learning Rate: ', optimizer.state_dict()['param_groups'][0]['lr'])\n",
    "    test(model, device, test_loader)"
   ]
  },
  {
   "cell_type": "code",
   "execution_count": 15,
   "metadata": {},
   "outputs": [
    {
     "data": {
      "text/plain": [
       "Text(0.5, 1.0, 'Test Accuracy')"
      ]
     },
     "execution_count": 15,
     "metadata": {},
     "output_type": "execute_result"
    },
    {
     "data": {
      "image/png": "[encoded data removed]",
      "text/plain": [
       "<Figure size 1600x1000 with 4 Axes>"
      ]
     },
     "metadata": {},
     "output_type": "display_data"
    }
   ],
   "source": [
    "train_losses1 = [float(i.cpu().detach().numpy()) for i in train_losses]\n",
    "train_acc1 = [i for i in train_acc]\n",
    "test_losses1 = [i for i in test_losses]\n",
    "test_acc1 = [i for i in test_acc]\n",
    "\n",
    "fig, axs = plt.subplots(2, 2, figsize = (16,10))\n",
    "\n",
    "axs[0,0].plot(train_losses1, color='green')\n",
    "axs[0,0].set_title('Training Loss')\n",
    "\n",
    "axs[1,0].plot(train_acc1, color='green')\n",
    "axs[1,0].set_title('Training Accuracy')\n",
    "\n",
    "axs[0,1].plot(test_losses1)\n",
    "axs[0,1].set_title('Test Loss')\n",
    "\n",
    "axs[1,1].plot(test_acc1)\n",
    "axs[1,1].set_title('Test Accuracy')"
   ]
  },
  {
   "cell_type": "markdown",
   "metadata": {},
   "source": []
  }
 ],
 "metadata": {
  "kernelspec": {
   "display_name": "Python 3",
   "language": "python",
   "name": "python3"
  },
  "language_info": {
   "codemirror_mode": {
    "name": "ipython",
    "version": 3
   },
   "file_extension": ".py",
   "mimetype": "text/x-python",
   "name": "python",
   "nbconvert_exporter": "python",
   "pygments_lexer": "ipython3",
   "version": "3.10.13"
  }
 },
 "nbformat": 4,
 "nbformat_minor": 2
}
