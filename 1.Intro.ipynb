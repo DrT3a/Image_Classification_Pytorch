{
 "cells": [
  {
   "cell_type": "markdown",
   "metadata": {},
   "source": [
    "#### Image Classification"
   ]
  },
  {
   "cell_type": "markdown",
   "metadata": {},
   "source": [
    " An object that needs to be identified by its name, involves the process of classification.  \n",
    "How classification is set up by a computer vision model:  \n",
    "\n",
    "1. Detecting edges\n",
    "2. Detecting gradients\n",
    "3. Identifying textures\n",
    "4. Forming parts of objects  \n",
    "\n",
    " A model needs to associate a name with a paticular object in an image. It does this by following a structured knowledge extraction mechanism and then by regenerating its input for the decision-making proccess.\n",
    "\n"
   ]
  },
  {
   "cell_type": "markdown",
   "metadata": {},
   "source": [
    "#### Topics to Cover:"
   ]
  },
  {
   "cell_type": "markdown",
   "metadata": {},
   "source": [
    "1. Data preparation methods\n",
    "2. Data augmentation techiques\n",
    "3. Using batch normalization and dropouts\n",
    "4. Comparing activation functions\n",
    "5. Setting up models and their variations\n",
    "6. Training proccess\n",
    "7. Running inference and comparing model results"
   ]
  },
  {
   "cell_type": "markdown",
   "metadata": {},
   "source": [
    "#### Defining the Problem:"
   ]
  },
  {
   "cell_type": "markdown",
   "metadata": {},
   "source": [
    "We will be checking x-ray images of lungs and classifying them, with the help of computer vision techniques, as either having pneumonia or being normal. Since this is a healthcare problem:\n",
    "\n",
    "- We need the highest form of accuracy.\n",
    "- We need to be sure to diagnose any possible case and not misclassify.\n",
    "- Softmax logits can often be used to determine the prediction rather than a softmax function deciding the class."
   ]
  },
  {
   "cell_type": "markdown",
   "metadata": {},
   "source": [
    "#### Overview of the Approach:\n",
    "\n",
    "*This is strictly an experiment and we will only set the baseline standards for the approach that needs to be iterated.*"
   ]
  },
  {
   "cell_type": "markdown",
   "metadata": {},
   "source": [
    "This approach involves the following steps:  \n",
    "\n",
    "1. Downloading data from the source and placing it in the root directory.\n",
    "2. Checking for data sanity, configurable information such as *shape*, *size* and *distribution of the images.\n",
    "3. Initializing *data loader functionalities* for training and testing.\n",
    "4. Defining the *model architecture* and validating it.\n",
    "5. Defining the functions for training and testing.\n",
    "6. Defining the optimizer for training and other training information such as *regularizers, epochs, batches, etc.*\n",
    "7. Training and checking for loss and accuracy patterns to understand the stability of the architecture and model training process.\n",
    "8. Deciding over multiple stages of improvements or changes, which one to select for further tuning or production.\n",
    "\n",
    "\n",
    "<img src=\"img/overview.JPG\" style=\"display:block; margin:auto\">\n",
    "\n",
    "*source: Computer Vision Projects with Pytorch, A.Kulkarni, A.Shivananda, N.Sharma, (2020)*"
   ]
  },
  {
   "cell_type": "markdown",
   "metadata": {},
   "source": [
    "#### Creating an Image Classification Pipeline:\n",
    "\n",
    " Since we are working with deep learning models that can work out features from spatial patterns, going deep into the network can help. We also need to look at *learning rate* modulations and regularising techiques to help the model.\n",
    "\n",
    "Strategies:\n",
    "\n",
    "1. Check on data availability, based on how much data is available and the complexity of the problem. We can decide if we have to oversample.\n",
    "2. The *validation data* and the *type* of image data we get helps with data augmentation strategies.\n",
    "3. Check for image sizes and the object within the image size to understand the model architecture better\n",
    "4. Formulate our strategies around the production infrastructure, on which the model needs to run, as well as the latency we need.\n",
    "5. Figure out the accuracy, whether a higher *recall* is required, or we need higher *precision*.\n",
    "6. The training time and cost in infrastructure also need to be taken into consideration."
   ]
  },
  {
   "cell_type": "markdown",
   "metadata": {},
   "source": [
    "#### Notes:\n",
    "\n",
    "Precision and recall: \n",
    "\n",
    "<img src=\"img/precision_recall.JPG\" style=\"display:block; margin:auto\">\n",
    "\n",
    "\n",
    "*<p style=\"text-align: center;\">[Source: Wikipedia](https://en.wikipedia.org/wiki/Precision_and_recall)</p>*"
   ]
  }
 ],
 "metadata": {
  "kernelspec": {
   "display_name": "Python 3",
   "language": "python",
   "name": "python3"
  },
  "language_info": {
   "name": "python",
   "version": "3.10.13"
  }
 },
 "nbformat": 4,
 "nbformat_minor": 2
}
